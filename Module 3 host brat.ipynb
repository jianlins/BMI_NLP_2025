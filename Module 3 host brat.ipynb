{
 "cells": [
  {
   "cell_type": "markdown",
   "metadata": {
    "id": "lZF4P5p2QoGh"
   },
   "source": [
    "<a href=\"https://colab.research.google.com/github/jianlins/BMI_NLP_2025/blob/main/Module%203%20host%20brat.ipynb\"><img src=\"https://colab.research.google.com/assets/colab-badge.svg\" alt=\"Open In Colab\"/></a>"
   ]
  },
  {
   "cell_type": "markdown",
   "metadata": {
    "id": "eBkGvwoYOl4v"
   },
   "source": [
    "\n",
    "This notebook sets up a BRAT test server, providing a free playground to familiarize yourself with this annotation tool and experiment without extensive installation and configuration. Please avoid using this setup in production environments, especially when handling PHI data."
   ]
  },
  {
   "cell_type": "markdown",
   "metadata": {
    "id": "0CWuJDY1OfZS"
   },
   "source": [
    "## Mount google drive\n",
    "\n"
   ]
  },
  {
   "cell_type": "code",
   "execution_count": null,
   "metadata": {
    "id": "I5I0igzQLhvG"
   },
   "outputs": [],
   "source": [
    "#Let's mount your google drive, so that you can reuse the downloaded files later\n",
    "from google.colab import drive\n",
    "drive.mount('/content/drive')"
   ]
  },
  {
   "cell_type": "code",
   "execution_count": null,
   "metadata": {},
   "outputs": [],
   "source": [
    "%cd /content/drive/MyDrive/"
   ]
  },
  {
   "cell_type": "code",
   "execution_count": 12,
   "metadata": {
    "colab": {
     "base_uri": "https://localhost:8080/"
    },
    "executionInfo": {
     "elapsed": 6240,
     "status": "ok",
     "timestamp": 1738171788344,
     "user": {
      "displayName": "Jianlin Shi",
      "userId": "14945741972058211009"
     },
     "user_tz": 420
    },
    "id": "eaw8RRVXEnrk",
    "outputId": "2684195a-b1a2-4c65-fce2-663ffd983775"
   },
   "outputs": [
    {
     "name": "stdout",
     "output_type": "stream",
     "text": [
      "Cloning into 'brat'...\n",
      "remote: Enumerating objects: 17077, done.\u001b[K\n",
      "remote: Counting objects: 100% (48/48), done.\u001b[K\n",
      "remote: Compressing objects: 100% (33/33), done.\u001b[K\n",
      "remote: Total 17077 (delta 17), reused 40 (delta 15), pack-reused 17029 (from 1)\u001b[K\n",
      "Receiving objects: 100% (17077/17077), 84.48 MiB | 20.66 MiB/s, done.\n",
      "Resolving deltas: 100% (10311/10311), done.\n"
     ]
    }
   ],
   "source": [
    "!git clone https://github.com/nlplab/brat.git"
   ]
  },
  {
   "cell_type": "code",
   "execution_count": null,
   "metadata": {
    "colab": {
     "base_uri": "https://localhost:8080/"
    },
    "executionInfo": {
     "elapsed": 3,
     "status": "ok",
     "timestamp": 1738171799222,
     "user": {
      "displayName": "Jianlin Shi",
      "userId": "14945741972058211009"
     },
     "user_tz": 420
    },
    "id": "6FiyL_MeF0bS",
    "outputId": "505bda72-21b5-4d6c-fac7-8bce96e72cb6"
   },
   "outputs": [],
   "source": [
    "%cd /content/drive/MyDrive/brat"
   ]
  },
  {
   "cell_type": "code",
   "execution_count": null,
   "metadata": {
    "colab": {
     "base_uri": "https://localhost:8080/"
    },
    "executionInfo": {
     "elapsed": 10230,
     "status": "ok",
     "timestamp": 1738171830572,
     "user": {
      "displayName": "Jianlin Shi",
      "userId": "14945741972058211009"
     },
     "user_tz": 420
    },
    "id": "AK9yU2uGF9ly",
    "outputId": "49a1b8bb-0708-4e5e-b5e0-8e9aec815170"
   },
   "outputs": [
    {
     "name": "stdout",
     "output_type": "stream",
     "text": [
      "Please enter the user name that you want to use when logging into brat:\n",
      "admin\n",
      "Please enter a brat password (this shows on screen):\n",
      "admin\n",
      "Please enter the administrator contact email:\n",
      "admin@utah.edu\n",
      "\n",
      "Setting global read and write permissions to directories\n",
      "    \"/content/brat/work/\" and\n",
      "    \"/content/brat/data/\"\n",
      "(you may wish to consider fixing this manually)\n",
      "The installation has finished, you are almost done.\n",
      "\n",
      "1.) If you are installing brat on a webserver, make sure you have \n",
      "    followed the steps described in the brat manual to enable CGI:\n",
      "\n",
      "    http://brat.nlplab.org/installation.html\n",
      "\n",
      "2.) Please verify that brat is running by accessing your installation\n",
      "    using a web browser.\n",
      "\n",
      "You can automatically diagnose some common installation issues using:\n",
      "\n",
      "    tools/troubleshooting.sh URL_TO_BRAT_INSTALLATION\n",
      "\n",
      "If there are issues not detected by the above script, please contact the\n",
      "brat developers and/or file a bug to the brat bug tracker:\n",
      "\n",
      "    https://github.com/nlplab/brat/issues'\n",
      "\n",
      "3.) Once brat is running, put your data in the data directory. Or use\n",
      "    the example data placed there by the installation:\n",
      "\n",
      "    /content/brat/data\n",
      "\n",
      "4.) You can find configuration files to place in your data directory in\n",
      "    the configurations directory, see the manual for further details:\n",
      "\n",
      "    /content/brat/configurations\n",
      "\n",
      "5.) Then, you (and your team?) are ready to start annotating!\n"
     ]
    }
   ],
   "source": [
    "!./install.sh"
   ]
  },
  {
   "cell_type": "markdown",
   "metadata": {
    "id": "Q9VPWmVNObss"
   },
   "source": [
    "## Use ngrok to set up tunneling\n",
    "\n",
    "Because any service we run inside colab is not accessible from internet direclty. We need to set up a tunneling service to tunnel the brat server outside. You will need to sign up a [ngrok account](https://ngrok.com/)"
   ]
  },
  {
   "cell_type": "code",
   "execution_count": null,
   "metadata": {
    "colab": {
     "base_uri": "https://localhost:8080/",
     "height": 35
    },
    "executionInfo": {
     "elapsed": 1102,
     "status": "ok",
     "timestamp": 1738171574856,
     "user": {
      "displayName": "Jianlin Shi",
      "userId": "14945741972058211009"
     },
     "user_tz": 420
    },
    "id": "vRnUNLcmF_9M",
    "outputId": "da7a980f-1fd1-4b7e-c2a9-49cc68d39130"
   },
   "outputs": [],
   "source": [
    "!pip install pyngrok"
   ]
  },
  {
   "cell_type": "code",
   "execution_count": null,
   "metadata": {},
   "outputs": [],
   "source": [
    "# Find your own token under tab \"Your AuthToken\" once you login\n",
    "from getpass import getpass\n",
    "from pyngrok import ngrok\n",
    "print('Find your own token under tab \"Your AuthToken\" once you login')\n",
    "token = getpass(\"Enter your ngrok token: \")\n",
    "ngrok.set_auth_token(token)\n",
    "public_url = ngrok.connect(8001, bind_tls=True)\n",
    "print(f'BRAT is accessible via: {public_url}')"
   ]
  },
  {
   "cell_type": "markdown",
   "metadata": {
    "id": "_ynl_IlwOU1e"
   },
   "source": [
    "## Downgrade to python3.10"
   ]
  },
  {
   "cell_type": "code",
   "execution_count": 17,
   "metadata": {
    "colab": {
     "base_uri": "https://localhost:8080/"
    },
    "executionInfo": {
     "elapsed": 21110,
     "status": "ok",
     "timestamp": 1738172493820,
     "user": {
      "displayName": "Jianlin Shi",
      "userId": "14945741972058211009"
     },
     "user_tz": 420
    },
    "id": "uRW8HvkMJsb6",
    "outputId": "435ca3ce-2b91-4ad0-9401-ffec9ea34005"
   },
   "outputs": [
    {
     "name": "stdout",
     "output_type": "stream",
     "text": [
      "⏬ Downloading https://github.com/jaimergp/miniforge/releases/download/24.11.2-1_colab/Miniforge3-colab-24.11.2-1_colab-Linux-x86_64.sh...\n",
      "📦 Installing...\n",
      "📌 Adjusting configuration...\n",
      "🩹 Patching environment...\n",
      "⏲ Done in 0:00:18\n",
      "🔁 Restarting kernel...\n"
     ]
    }
   ],
   "source": [
    "# The current version of brat doesn't support python3.11, we need to downgrade to 3.10\n",
    "!pip install -q condacolab\n",
    "import condacolab\n",
    "condacolab.install()"
   ]
  },
  {
   "cell_type": "code",
   "execution_count": 2,
   "metadata": {
    "colab": {
     "base_uri": "https://localhost:8080/"
    },
    "executionInfo": {
     "elapsed": 35817,
     "status": "ok",
     "timestamp": 1738172566495,
     "user": {
      "displayName": "Jianlin Shi",
      "userId": "14945741972058211009"
     },
     "user_tz": 420
    },
    "id": "5bD6pgzxJ0Gm",
    "outputId": "424a024f-3c79-46a8-ab57-fd6711160eea"
   },
   "outputs": [
    {
     "name": "stdout",
     "output_type": "stream",
     "text": [
      "Channels:\n",
      " - conda-forge\n",
      "Platform: linux-64\n",
      "Collecting package metadata (repodata.json): - \b\b\\ \b\b| \b\b/ \b\b- \b\b\\ \b\b| \b\b/ \b\b- \b\b\\ \b\b| \b\b/ \b\b- \b\b\\ \b\b| \b\b/ \b\b- \b\b\\ \b\b| \b\b/ \b\b- \b\b\\ \b\b| \b\b/ \b\b- \b\b\\ \b\b| \b\b/ \b\b- \b\b\\ \b\b| \b\b/ \b\b- \b\b\\ \b\b| \b\b/ \b\b- \b\b\\ \b\b| \b\b/ \b\b- \b\b\\ \b\b| \b\b/ \b\b- \b\bdone\n",
      "Solving environment: | \b\b/ \b\bdone\n",
      "\n",
      "\n",
      "==> WARNING: A newer version of conda exists. <==\n",
      "    current version: 24.11.2\n",
      "    latest version: 25.1.0\n",
      "\n",
      "Please update conda by running\n",
      "\n",
      "    $ conda update -n base -c conda-forge conda\n",
      "\n",
      "\n",
      "\n",
      "## Package Plan ##\n",
      "\n",
      "  environment location: /usr/local/envs/brat\n",
      "\n",
      "  added / updated specs:\n",
      "    - python=3.10\n",
      "\n",
      "\n",
      "The following packages will be downloaded:\n",
      "\n",
      "    package                    |            build\n",
      "    ---------------------------|-----------------\n",
      "    libsqlite-3.48.0           |       hee588c1_1         858 KB  conda-forge\n",
      "    pip-25.0                   |     pyh8b19718_0         1.2 MB  conda-forge\n",
      "    python-3.10.16             |he725a3c_1_cpython        24.0 MB  conda-forge\n",
      "    setuptools-75.8.0          |     pyhff2d567_0         757 KB  conda-forge\n",
      "    tzdata-2025a               |       h78e105d_0         120 KB  conda-forge\n",
      "    ------------------------------------------------------------\n",
      "                                           Total:        26.9 MB\n",
      "\n",
      "The following NEW packages will be INSTALLED:\n",
      "\n",
      "  _libgcc_mutex      conda-forge/linux-64::_libgcc_mutex-0.1-conda_forge \n",
      "  _openmp_mutex      conda-forge/linux-64::_openmp_mutex-4.5-2_gnu \n",
      "  bzip2              conda-forge/linux-64::bzip2-1.0.8-h4bc722e_7 \n",
      "  ca-certificates    conda-forge/linux-64::ca-certificates-2024.12.14-hbcca054_0 \n",
      "  ld_impl_linux-64   conda-forge/linux-64::ld_impl_linux-64-2.43-h712a8e2_2 \n",
      "  libffi             conda-forge/linux-64::libffi-3.4.2-h7f98852_5 \n",
      "  libgcc             conda-forge/linux-64::libgcc-14.2.0-h77fa898_1 \n",
      "  libgcc-ng          conda-forge/linux-64::libgcc-ng-14.2.0-h69a702a_1 \n",
      "  libgomp            conda-forge/linux-64::libgomp-14.2.0-h77fa898_1 \n",
      "  liblzma            conda-forge/linux-64::liblzma-5.6.3-hb9d3cd8_1 \n",
      "  libnsl             conda-forge/linux-64::libnsl-2.0.1-hd590300_0 \n",
      "  libsqlite          conda-forge/linux-64::libsqlite-3.48.0-hee588c1_1 \n",
      "  libuuid            conda-forge/linux-64::libuuid-2.38.1-h0b41bf4_0 \n",
      "  libxcrypt          conda-forge/linux-64::libxcrypt-4.4.36-hd590300_1 \n",
      "  libzlib            conda-forge/linux-64::libzlib-1.3.1-hb9d3cd8_2 \n",
      "  ncurses            conda-forge/linux-64::ncurses-6.5-h2d0b736_2 \n",
      "  openssl            conda-forge/linux-64::openssl-3.4.0-h7b32b05_1 \n",
      "  pip                conda-forge/noarch::pip-25.0-pyh8b19718_0 \n",
      "  python             conda-forge/linux-64::python-3.10.16-he725a3c_1_cpython \n",
      "  readline           conda-forge/linux-64::readline-8.2-h8228510_1 \n",
      "  setuptools         conda-forge/noarch::setuptools-75.8.0-pyhff2d567_0 \n",
      "  tk                 conda-forge/linux-64::tk-8.6.13-noxft_h4845f30_101 \n",
      "  tzdata             conda-forge/noarch::tzdata-2025a-h78e105d_0 \n",
      "  wheel              conda-forge/noarch::wheel-0.45.1-pyhd8ed1ab_1 \n",
      "\n",
      "\n",
      "\n",
      "Downloading and Extracting Packages:\n",
      "python-3.10.16       | 24.0 MB   | :   0% 0/1 [00:00<?, ?it/s]\n",
      "pip-25.0             | 1.2 MB    | :   0% 0/1 [00:00<?, ?it/s]\u001b[A\n",
      "\n",
      "libsqlite-3.48.0     | 858 KB    | :   0% 0/1 [00:00<?, ?it/s]\u001b[A\u001b[A\n",
      "\n",
      "\n",
      "setuptools-75.8.0    | 757 KB    | :   0% 0/1 [00:00<?, ?it/s]\u001b[A\u001b[A\u001b[A\n",
      "\n",
      "\n",
      "\n",
      "tzdata-2025a         | 120 KB    | :   0% 0/1 [00:00<?, ?it/s]\u001b[A\u001b[A\u001b[A\u001b[A\n",
      "\n",
      "libsqlite-3.48.0     | 858 KB    | :   4% 0.037311707846412585/1 [00:00<00:02,  2.85s/it]\u001b[A\u001b[A\n",
      "\n",
      "\n",
      "\n",
      "tzdata-2025a         | 120 KB    | :  13% 0.13328886032492415/1 [00:00<00:00,  1.25it/s]\u001b[A\u001b[A\u001b[A\u001b[A\n",
      "\n",
      "\n",
      "python-3.10.16       | 24.0 MB   | :   0% 0.0006501682504795408/1 [00:00<03:27, 207.38s/it]\n",
      "pip-25.0             | 1.2 MB    | :   1% 0.013023236589062993/1 [00:00<00:10, 10.31s/it]\u001b[A\n",
      "\n",
      "\n",
      "\n",
      "tzdata-2025a         | 120 KB    | : 100% 1.0/1 [00:00<00:00,  1.25it/s]                \u001b[A\u001b[A\u001b[A\u001b[A\n",
      "\n",
      "libsqlite-3.48.0     | 858 KB    | : 100% 1.0/1 [00:00<00:00,  2.85s/it]                 \u001b[A\u001b[A\n",
      "\n",
      "\n",
      "setuptools-75.8.0    | 757 KB    | : 100% 1.0/1 [00:00<00:00,  6.02s/it]                 \u001b[A\u001b[A\u001b[A\n",
      "python-3.10.16       | 24.0 MB   | :  13% 0.1339346595987854/1 [00:00<00:01,  1.45s/it]    \n",
      "\n",
      "libsqlite-3.48.0     | 858 KB    | : 100% 1.0/1 [00:00<00:00,  4.20it/s]\u001b[A\u001b[A\n",
      "\n",
      "python-3.10.16       | 24.0 MB   | :  67% 0.6696732979939269/1 [00:00<00:00,  1.20it/s]\n",
      "\n",
      "\n",
      "\n",
      "tzdata-2025a         | 120 KB    | : 100% 1.0/1 [00:00<00:00,  1.35it/s]\u001b[A\u001b[A\u001b[A\u001b[A\n",
      "\n",
      "\n",
      "\n",
      "python-3.10.16       | 24.0 MB   | :  90% 0.8972321856617662/1 [00:00<00:00,  1.50it/s]\n",
      "\n",
      "\n",
      "setuptools-75.8.0    | 757 KB    | : 100% 1.0/1 [00:00<00:00,  1.08it/s]\u001b[A\u001b[A\u001b[A\n",
      "\n",
      "\n",
      "python-3.10.16       | 24.0 MB   | : 100% 1.0/1 [00:01<00:00,  1.50it/s]               \n",
      "pip-25.0             | 1.2 MB    | : 100% 1.0/1 [00:01<00:00,  1.35s/it]\u001b[A\n",
      "                                                                        \n",
      "                                                                        \u001b[A\n",
      "\n",
      "                                                                        \u001b[A\u001b[A\n",
      "\n",
      "\n",
      "                                                                        \u001b[A\u001b[A\u001b[A\n",
      "\n",
      "\n",
      "\n",
      "                                                                        \u001b[A\u001b[A\u001b[A\u001b[A\n",
      "Preparing transaction: - \b\b\\ \b\b| \b\b/ \b\bdone\n",
      "Verifying transaction: \\ \b\b| \b\b/ \b\b- \b\b\\ \b\b| \b\b/ \b\b- \b\b\\ \b\b| \b\b/ \b\b- \b\b\\ \b\b| \b\b/ \b\b- \b\b\\ \b\b| \b\b/ \b\b- \b\bdone\n",
      "Executing transaction: | \b\b/ \b\b- \b\b\\ \b\b| \b\b/ \b\b- \b\b\\ \b\b| \b\b/ \b\b- \b\b\\ \b\b| \b\b/ \b\b- \b\b\\ \b\b| \b\b/ \b\b- \b\b\\ \b\b| \b\b/ \b\b- \b\b\\ \b\b| \b\b/ \b\b- \b\b\\ \b\b| \b\b/ \b\b- \b\b\\ \b\b| \b\bdone\n",
      "#\n",
      "# To activate this environment, use\n",
      "#\n",
      "#     $ conda activate brat\n",
      "#\n",
      "# To deactivate an active environment, use\n",
      "#\n",
      "#     $ conda deactivate\n",
      "\n"
     ]
    }
   ],
   "source": [
    "# Create a conda evironment named brat with python 3.10\n",
    "!conda create --name brat python=3.10 -y"
   ]
  },
  {
   "cell_type": "markdown",
   "metadata": {
    "id": "x2nV7ITNON_g"
   },
   "source": [
    "## Start the brat server using python3.10"
   ]
  },
  {
   "cell_type": "code",
   "execution_count": null,
   "metadata": {
    "colab": {
     "base_uri": "https://localhost:8080/"
    },
    "id": "5Fz-fR1VKF2l",
    "outputId": "201e757d-9061-430f-f66a-764bd2f80fc4"
   },
   "outputs": [
    {
     "name": "stdout",
     "output_type": "stream",
     "text": [
      "\n",
      "! WARNING: running as root. The brat standalone server is experimental   !\n",
      "! and may be a security risk. It is recommend to run the standalone      !\n",
      "! server as a non-root user with write permissions to the brat work/ and !\n",
      "! data/ directories (e.g. apache if brat is set up using standard        !\n",
      "! installation).                                                         !\n",
      "\n",
      "Serving brat at http://0.0.0.0:8001\n"
     ]
    }
   ],
   "source": [
    "%%shell\n",
    "source activate brat\n",
    "cd /content/drive/MyDrive/brat\n",
    "python3 standalone.py"
   ]
  },
  {
   "cell_type": "code",
   "execution_count": null,
   "metadata": {
    "id": "gxe7199CLBLa"
   },
   "outputs": [],
   "source": []
  }
 ],
 "metadata": {
  "colab": {
   "authorship_tag": "ABX9TyPTbNsd5v+9LuxsfsIi7FDE",
   "provenance": [],
   "toc_visible": true
  },
  "kernelspec": {
   "display_name": "Python 3",
   "name": "python3"
  },
  "language_info": {
   "name": "python"
  }
 },
 "nbformat": 4,
 "nbformat_minor": 0
}
