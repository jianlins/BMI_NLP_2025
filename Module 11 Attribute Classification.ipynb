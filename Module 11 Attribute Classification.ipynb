{
 "cells": [
  {
   "cell_type": "markdown",
   "metadata": {
    "id": "8JcZOhxh0Rn4"
   },
   "source": [
    "[![Open In Colab](https://colab.research.google.com/assets/colab-badge.svg)](https://colab.research.google.com/github/jianlins/BMI_NLP_2025/blob/main/Module%2011%20Attribute%20Classification.ipynb)\n",
    "\n",
    "# Attribute classification\n",
    "\n",
    "We will still use previous [UUDeCART](https://github.com/UUDeCART/decart_rule_based_nlp) dataset. This dataset was created using the MIMIC demo dataset and was labeled by Dr. Barbara E. Jones. It is relatively small and was not annotated by a second annotator. Therefore, it should only be used for learning or demonstration purposes.\n",
    "\n",
    "This dataset originally included modifiers (attributes). Unfortunately, during a previous conversion aimed at simplifying the dataset for learning purposes, this attribute information was lost. Here, I will use a straightforward conversion method to simulate an attribute classification dataset. This will solely serve for your exercise purposes."
   ]
  },
  {
   "cell_type": "markdown",
   "metadata": {
    "id": "eL5y70aI1W-j"
   },
   "source": [
    "## Download the dataset"
   ]
  },
  {
   "cell_type": "code",
   "execution_count": null,
   "metadata": {
    "id": "u-bUiTxtqluj"
   },
   "outputs": [],
   "source": [
    "%%capture\n",
    "!wget https://github.com/UUDeCART/decart_rule_based_nlp/raw/master/data/training_v2.zip"
   ]
  },
  {
   "cell_type": "code",
   "execution_count": null,
   "metadata": {
    "id": "Efix7RESqo7S"
   },
   "outputs": [],
   "source": [
    "%%capture\n",
    "!wget https://github.com/UUDeCART/decart_rule_based_nlp/raw/master/data/test_v2.zip"
   ]
  },
  {
   "cell_type": "code",
   "execution_count": null,
   "metadata": {
    "colab": {
     "base_uri": "https://localhost:8080/"
    },
    "executionInfo": {
     "elapsed": 7,
     "status": "ok",
     "timestamp": 1711000581685,
     "user": {
      "displayName": "Jade Broken",
      "userId": "16103365057160619176"
     },
     "user_tz": 360
    },
    "id": "OPNQmUpmqtrq",
    "outputId": "3dc1cf18-6899-4250-c131-f8c7f1a660fd"
   },
   "outputs": [
    {
     "name": "stdout",
     "output_type": "stream",
     "text": [
      "sample_data  test_v2.zip  training_v2.zip\n"
     ]
    }
   ],
   "source": [
    "!ls"
   ]
  },
  {
   "cell_type": "code",
   "execution_count": null,
   "metadata": {
    "id": "TFVFTfI_qvxp"
   },
   "outputs": [],
   "source": [
    "%%capture\n",
    "!unzip training_v2.zip"
   ]
  },
  {
   "cell_type": "code",
   "execution_count": null,
   "metadata": {
    "id": "yUc-FWcPqwi6"
   },
   "outputs": [],
   "source": [
    "%%capture\n",
    "!unzip test_v2.zip"
   ]
  },
  {
   "cell_type": "code",
   "execution_count": null,
   "metadata": {
    "colab": {
     "base_uri": "https://localhost:8080/"
    },
    "executionInfo": {
     "elapsed": 185,
     "status": "ok",
     "timestamp": 1711000582088,
     "user": {
      "displayName": "Jade Broken",
      "userId": "16103365057160619176"
     },
     "user_tz": 360
    },
    "id": "p0daHJoaq4MD",
    "outputId": "893739e0-ac30-437f-8d8b-cc5b23d6ebae"
   },
   "outputs": [
    {
     "name": "stdout",
     "output_type": "stream",
     "text": [
      "sample_data  test_v2  test_v2.zip  training_v2\ttraining_v2.zip\n"
     ]
    }
   ],
   "source": [
    "!ls"
   ]
  },
  {
   "cell_type": "markdown",
   "metadata": {
    "id": "Q1FzWMzA1c1j"
   },
   "source": [
    "## Install & import the packages"
   ]
  },
  {
   "cell_type": "code",
   "execution_count": null,
   "metadata": {
    "id": "ONbAsYwBq9bP"
   },
   "outputs": [],
   "source": [
    "!pip install quicksectx git+https://github.com/medspacy/medspacy_io"
   ]
  },
  {
   "cell_type": "code",
   "execution_count": null,
   "metadata": {
    "id": "bOTovA88rIrq"
   },
   "outputs": [],
   "source": [
    "from spacy.lang.en import English\n",
    "from medspacy_io.reader import BratDocReader\n",
    "from medspacy_io.reader import BratDirReader\n",
    "import spacy\n",
    "from pathlib import Path\n",
    "from medspacy_io.vectorizer import Vectorizer\n",
    "from sklearn.feature_extraction.text import CountVectorizer\n",
    "from sklearn.metrics import classification_report\n",
    "import pandas as pd\n",
    "pd.set_option('display.max_colwidth', None)\n"
   ]
  },
  {
   "cell_type": "code",
   "execution_count": null,
   "metadata": {
    "colab": {
     "base_uri": "https://localhost:8080/"
    },
    "executionInfo": {
     "elapsed": 3,
     "status": "ok",
     "timestamp": 1711000629735,
     "user": {
      "displayName": "Jade Broken",
      "userId": "16103365057160619176"
     },
     "user_tz": 360
    },
    "id": "nx6cwF9ZsQaq",
    "outputId": "c06eb43d-64d1-40c0-9f60-d85031ae3ab3"
   },
   "outputs": [
    {
     "data": {
      "text/plain": [
       "67"
      ]
     },
     "execution_count": 9,
     "metadata": {},
     "output_type": "execute_result"
    }
   ],
   "source": [
    "# The dataset files does not include schema configuration, let's create one\n",
    "concepts=['EVIDENCE_OF_PNEUMONIA', 'PNEUMONIA_DOC_NO', 'PNEUMONIA_DOC_YES']\n",
    "lines=['[entities]']+concepts\n",
    "Path('annotation.conf').write_text('\\n'.join(lines))"
   ]
  },
  {
   "cell_type": "code",
   "execution_count": null,
   "metadata": {
    "colab": {
     "base_uri": "https://localhost:8080/"
    },
    "executionInfo": {
     "elapsed": 2287,
     "status": "ok",
     "timestamp": 1711000632020,
     "user": {
      "displayName": "Jade Broken",
      "userId": "16103365057160619176"
     },
     "user_tz": 360
    },
    "id": "rdi6uXEWrwxn",
    "outputId": "6c4d3413-01b0-4e9f-9783-0bb4aa6cfcea"
   },
   "outputs": [
    {
     "name": "stdout",
     "output_type": "stream",
     "text": [
      "found annotation.conf file\n"
     ]
    }
   ],
   "source": [
    "# set up the Brat reader\n",
    "nlp=spacy.load(\"en_core_web_sm\", disable=['ner'])\n",
    "dir_reader = BratDirReader(nlp=nlp, support_overlap=True, recursive=True, schema_file='annotation.conf')"
   ]
  },
  {
   "cell_type": "code",
   "execution_count": null,
   "metadata": {
    "id": "2kv85llL0MUd"
   },
   "outputs": [],
   "source": [
    "Vectorizer.docs_to_sents_df?"
   ]
  },
  {
   "cell_type": "code",
   "execution_count": null,
   "metadata": {
    "id": "7GTpihbUyrRr"
   },
   "outputs": [],
   "source": [
    "# This function will read brat annotation files and convert the snippet annotation into sentence labelled dataframe\n",
    "def convert2df(data_folder):\n",
    "  # read brat annotation into spaCy doc object.\n",
    "  docs = dir_reader.read(txt_dir=data_folder)\n",
    "  # convert snippet label into sentence-level labels and generate pandas dataframe\n",
    "  df = Vectorizer.docs_to_sents_df(docs, track_doc_name=True, sent_window=2)\n",
    "  # remove document-level labels\n",
    "  df=df[~df['y'].str.contains('_DOC_')]\n",
    "  return df[['X','y']]\n",
    "\n"
   ]
  },
  {
   "cell_type": "code",
   "execution_count": null,
   "metadata": {
    "id": "IpYIjIwItMW7"
   },
   "outputs": [],
   "source": [
    "train_df=convert2df('training_v2')\n",
    "test_df=convert2df('test_v2')"
   ]
  },
  {
   "cell_type": "markdown",
   "metadata": {
    "id": "JdaskBnntsHG"
   },
   "source": []
  },
  {
   "cell_type": "code",
   "execution_count": null,
   "metadata": {
    "id": "V7mh0tCwriOM"
   },
   "outputs": [],
   "source": [
    "def to_attr_classify(df:pd.DataFrame):\n",
    "    keywords = ['opacity', 'infiltrate', 'pneumonia', 'effusion', 'consolidation']\n",
    "\n",
    "    # Function to find offsets of keywords in sentences\n",
    "    def find_offsets(sentence, keywords):\n",
    "        offsets = []\n",
    "        for keyword in keywords:\n",
    "            start = sentence.find(keyword)\n",
    "            if start != -1:\n",
    "                end = start + len(keyword)\n",
    "                offsets.append((keyword, start, end))\n",
    "        return offsets\n",
    "\n",
    "    # Apply the function and expand the list of offsets into a new dataframe\n",
    "    rows = []\n",
    "    for i, row in df.iterrows():\n",
    "        offsets = find_offsets(row['X'].lower(), keywords)\n",
    "        for keyword, start, end in offsets:\n",
    "            rows.append({'X': row['X'], 'Keyword': keyword, 'Start': start, 'End': end, 'y':row['y']})\n",
    "\n",
    "    # Creating a new dataframe from the rows with keywords found\n",
    "    filtered_df = pd.DataFrame(rows)\n",
    "    filtered_df['y']=filtered_df['y'].map(lambda x: 'NotAffirmed' if x == 'NEG' else 'Affirmed')\n",
    "    return filtered_df"
   ]
  },
  {
   "cell_type": "code",
   "execution_count": null,
   "metadata": {
    "id": "IDFEeo_oqn40"
   },
   "outputs": [],
   "source": [
    "train_adf=to_attr_classify(train_df)\n",
    "test_adf=to_attr_classify(test_df)"
   ]
  },
  {
   "cell_type": "code",
   "execution_count": null,
   "metadata": {
    "colab": {
     "base_uri": "https://localhost:8080/",
     "height": 1000
    },
    "executionInfo": {
     "elapsed": 163,
     "status": "ok",
     "timestamp": 1711004526984,
     "user": {
      "displayName": "Jade Broken",
      "userId": "16103365057160619176"
     },
     "user_tz": 360
    },
    "id": "t0nMj4xvo-sD",
    "outputId": "ef05cb50-ce87-418b-d491-e9c732d9c46b"
   },
   "outputs": [
    {
     "data": {
      "application/vnd.google.colaboratory.intrinsic+json": {
       "summary": "{\n  \"name\": \"train_adf[30:60]\",\n  \"rows\": 30,\n  \"fields\": [\n    {\n      \"column\": \"X\",\n      \"properties\": {\n        \"dtype\": \"string\",\n        \"num_unique_values\": 25,\n        \"samples\": [\n          \"Assess for change COPD, pneumonia, tracheomalacia, and post left\\n     main stem stent removal.\\n     \\n      COMPARISON:  \",\n          \"The extreme left\\n     costophrenic angle is cut off. There is probable small right pleural effusion.\\n     \\n     \",\n          \"No infiltrates\\n     or consolidations are present.   There is no pneumothorax.  \"\n        ],\n        \"semantic_type\": \"\",\n        \"description\": \"\"\n      }\n    },\n    {\n      \"column\": \"Keyword\",\n      \"properties\": {\n        \"dtype\": \"category\",\n        \"num_unique_values\": 5,\n        \"samples\": [\n          \"infiltrate\",\n          \"pneumonia\",\n          \"opacity\"\n        ],\n        \"semantic_type\": \"\",\n        \"description\": \"\"\n      }\n    },\n    {\n      \"column\": \"Start\",\n      \"properties\": {\n        \"dtype\": \"number\",\n        \"std\": 91,\n        \"min\": 0,\n        \"max\": 413,\n        \"num_unique_values\": 29,\n        \"samples\": [\n          0,\n          63,\n          177\n        ],\n        \"semantic_type\": \"\",\n        \"description\": \"\"\n      }\n    },\n    {\n      \"column\": \"End\",\n      \"properties\": {\n        \"dtype\": \"number\",\n        \"std\": 90,\n        \"min\": 13,\n        \"max\": 422,\n        \"num_unique_values\": 28,\n        \"samples\": [\n          267,\n          81,\n          321\n        ],\n        \"semantic_type\": \"\",\n        \"description\": \"\"\n      }\n    },\n    {\n      \"column\": \"y\",\n      \"properties\": {\n        \"dtype\": \"category\",\n        \"num_unique_values\": 2,\n        \"samples\": [\n          \"Affirmed\",\n          \"NotAffirmed\"\n        ],\n        \"semantic_type\": \"\",\n        \"description\": \"\"\n      }\n    }\n  ]\n}",
       "type": "dataframe"
      },
      "text/html": [
       "\n",
       "  <div id=\"df-fdd10e65-cc67-4e1f-8e31-19220c88bdc3\" class=\"colab-df-container\">\n",
       "    <div>\n",
       "<style scoped>\n",
       "    .dataframe tbody tr th:only-of-type {\n",
       "        vertical-align: middle;\n",
       "    }\n",
       "\n",
       "    .dataframe tbody tr th {\n",
       "        vertical-align: top;\n",
       "    }\n",
       "\n",
       "    .dataframe thead th {\n",
       "        text-align: right;\n",
       "    }\n",
       "</style>\n",
       "<table border=\"1\" class=\"dataframe\">\n",
       "  <thead>\n",
       "    <tr style=\"text-align: right;\">\n",
       "      <th></th>\n",
       "      <th>X</th>\n",
       "      <th>Keyword</th>\n",
       "      <th>Start</th>\n",
       "      <th>End</th>\n",
       "      <th>y</th>\n",
       "    </tr>\n",
       "  </thead>\n",
       "  <tbody>\n",
       "    <tr>\n",
       "      <th>30</th>\n",
       "      <td>No infiltrates\\n     or consolidations are present.   There is no pneumothorax.</td>\n",
       "      <td>consolidation</td>\n",
       "      <td>23</td>\n",
       "      <td>36</td>\n",
       "      <td>NotAffirmed</td>\n",
       "    </tr>\n",
       "    <tr>\n",
       "      <th>31</th>\n",
       "      <td>IMPRESSION:\\n     \\n     1) Tubes and lines as described above.\\n     \\n      2) No acute infiltrate or consolidation.\\n\\n</td>\n",
       "      <td>infiltrate</td>\n",
       "      <td>86</td>\n",
       "      <td>96</td>\n",
       "      <td>NotAffirmed</td>\n",
       "    </tr>\n",
       "    <tr>\n",
       "      <th>32</th>\n",
       "      <td>IMPRESSION:\\n     \\n     1) Tubes and lines as described above.\\n     \\n      2) No acute infiltrate or consolidation.\\n\\n</td>\n",
       "      <td>consolidation</td>\n",
       "      <td>100</td>\n",
       "      <td>113</td>\n",
       "      <td>NotAffirmed</td>\n",
       "    </tr>\n",
       "    <tr>\n",
       "      <th>33</th>\n",
       "      <td>There has been interval worsening of the left lower lobe opacity.\\n      There is a small left pleural effusion.</td>\n",
       "      <td>opacity</td>\n",
       "      <td>57</td>\n",
       "      <td>64</td>\n",
       "      <td>Affirmed</td>\n",
       "    </tr>\n",
       "    <tr>\n",
       "      <th>34</th>\n",
       "      <td>There has been interval worsening of the left lower lobe opacity.\\n      There is a small left pleural effusion.</td>\n",
       "      <td>effusion</td>\n",
       "      <td>102</td>\n",
       "      <td>110</td>\n",
       "      <td>Affirmed</td>\n",
       "    </tr>\n",
       "    <tr>\n",
       "      <th>35</th>\n",
       "      <td>The NG tube courses below the\\n     diaphragm.   There has been interval worsening of the left lower lobe opacity.\\n</td>\n",
       "      <td>opacity</td>\n",
       "      <td>105</td>\n",
       "      <td>112</td>\n",
       "      <td>Affirmed</td>\n",
       "    </tr>\n",
       "    <tr>\n",
       "      <th>36</th>\n",
       "      <td>IMPRESSION:\\n      Worsening consolidation in the left lower lobe.\\n\\n</td>\n",
       "      <td>consolidation</td>\n",
       "      <td>28</td>\n",
       "      <td>41</td>\n",
       "      <td>Affirmed</td>\n",
       "    </tr>\n",
       "    <tr>\n",
       "      <th>37</th>\n",
       "      <td>[**2616-12-10**] 5:27 AM\\n     CHEST (PORTABLE AP)                                             Clip # [**Clip Number (Radiology) 11900**]\\n     Reason: assess interval change                                      \\n     Admitting Diagnosis: TRACHEAL OBSTRUCTION\\n     ______________________________________________________________________________\\n     UNDERLYING MEDICAL CONDITION:\\n       80 year old woman with COPD, pneumonia, tracheomalacia s/p LMSB stent removal. \\n</td>\n",
       "      <td>pneumonia</td>\n",
       "      <td>413</td>\n",
       "      <td>422</td>\n",
       "      <td>NotAffirmed</td>\n",
       "    </tr>\n",
       "    <tr>\n",
       "      <th>38</th>\n",
       "      <td>[**Clip Number (Radiology) 11900**]\\n     Reason: assess interval change                                      \\n     Admitting Diagnosis: TRACHEAL OBSTRUCTION\\n     ______________________________________________________________________________\\n     UNDERLYING MEDICAL CONDITION:\\n       80 year old woman with COPD, pneumonia, tracheomalacia s/p LMSB stent removal. \\n        Please assess interval change. \\n</td>\n",
       "      <td>pneumonia</td>\n",
       "      <td>312</td>\n",
       "      <td>321</td>\n",
       "      <td>NotAffirmed</td>\n",
       "    </tr>\n",
       "    <tr>\n",
       "      <th>39</th>\n",
       "      <td>assess interval change                                                          \\n     ______________________________________________________________________________\\n                                     FINAL REPORT\\n     INDICATION:   Assess for change COPD, pneumonia, tracheomalacia, and post left\\n     main stem stent removal.\\n     \\n</td>\n",
       "      <td>pneumonia</td>\n",
       "      <td>258</td>\n",
       "      <td>267</td>\n",
       "      <td>NotAffirmed</td>\n",
       "    </tr>\n",
       "    <tr>\n",
       "      <th>40</th>\n",
       "      <td>Assess for change COPD, pneumonia, tracheomalacia, and post left\\n     main stem stent removal.\\n     \\n      COMPARISON:</td>\n",
       "      <td>pneumonia</td>\n",
       "      <td>24</td>\n",
       "      <td>33</td>\n",
       "      <td>NotAffirmed</td>\n",
       "    </tr>\n",
       "    <tr>\n",
       "      <th>41</th>\n",
       "      <td>There is a small left pleural effusion.   No pneumothorax.\\n     \\n</td>\n",
       "      <td>effusion</td>\n",
       "      <td>30</td>\n",
       "      <td>38</td>\n",
       "      <td>NotAffirmed</td>\n",
       "    </tr>\n",
       "    <tr>\n",
       "      <th>42</th>\n",
       "      <td>[**2682-9-10**] 5:22 AM\\n     CHEST (PORTABLE AP)                                             Clip # [**Clip Number (Radiology) 12448**]\\n     Reason: please assess for effusions/pneumonia                       \\n     ______________________________________________________________________________\\n     UNDERLYING MEDICAL CONDITION:\\n            76 year old man with hypotension, vfib arrest, status post RIJ line   \\n      placement and Swan.                             \\n</td>\n",
       "      <td>pneumonia</td>\n",
       "      <td>177</td>\n",
       "      <td>186</td>\n",
       "      <td>NotAffirmed</td>\n",
       "    </tr>\n",
       "    <tr>\n",
       "      <th>43</th>\n",
       "      <td>[**2682-9-10**] 5:22 AM\\n     CHEST (PORTABLE AP)                                             Clip # [**Clip Number (Radiology) 12448**]\\n     Reason: please assess for effusions/pneumonia                       \\n     ______________________________________________________________________________\\n     UNDERLYING MEDICAL CONDITION:\\n            76 year old man with hypotension, vfib arrest, status post RIJ line   \\n      placement and Swan.                             \\n</td>\n",
       "      <td>effusion</td>\n",
       "      <td>167</td>\n",
       "      <td>175</td>\n",
       "      <td>NotAffirmed</td>\n",
       "    </tr>\n",
       "    <tr>\n",
       "      <th>44</th>\n",
       "      <td>[**Clip Number (Radiology) 12448**]\\n     Reason: please assess for effusions/pneumonia                       \\n     ______________________________________________________________________________\\n     UNDERLYING MEDICAL CONDITION:\\n            76 year old man with hypotension, vfib arrest, status post RIJ line   \\n      placement and Swan.                             \\n      REASON FOR THIS EXAMINATION:\\n      please assess for effusions/pneumonia                                           \\n     ______________________________________________________________________________\\n</td>\n",
       "      <td>pneumonia</td>\n",
       "      <td>77</td>\n",
       "      <td>86</td>\n",
       "      <td>NotAffirmed</td>\n",
       "    </tr>\n",
       "    <tr>\n",
       "      <th>45</th>\n",
       "      <td>[**Clip Number (Radiology) 12448**]\\n     Reason: please assess for effusions/pneumonia                       \\n     ______________________________________________________________________________\\n     UNDERLYING MEDICAL CONDITION:\\n            76 year old man with hypotension, vfib arrest, status post RIJ line   \\n      placement and Swan.                             \\n      REASON FOR THIS EXAMINATION:\\n      please assess for effusions/pneumonia                                           \\n     ______________________________________________________________________________\\n</td>\n",
       "      <td>effusion</td>\n",
       "      <td>67</td>\n",
       "      <td>75</td>\n",
       "      <td>NotAffirmed</td>\n",
       "    </tr>\n",
       "    <tr>\n",
       "      <th>46</th>\n",
       "      <td>REASON FOR THIS EXAMINATION:\\n      please assess for effusions/pneumonia                                           \\n     ______________________________________________________________________________\\n                                      FINAL REPORT\\n     HISTORY:</td>\n",
       "      <td>pneumonia</td>\n",
       "      <td>63</td>\n",
       "      <td>72</td>\n",
       "      <td>NotAffirmed</td>\n",
       "    </tr>\n",
       "    <tr>\n",
       "      <th>47</th>\n",
       "      <td>REASON FOR THIS EXAMINATION:\\n      please assess for effusions/pneumonia                                           \\n     ______________________________________________________________________________\\n                                      FINAL REPORT\\n     HISTORY:</td>\n",
       "      <td>effusion</td>\n",
       "      <td>53</td>\n",
       "      <td>61</td>\n",
       "      <td>NotAffirmed</td>\n",
       "    </tr>\n",
       "    <tr>\n",
       "      <th>48</th>\n",
       "      <td>The heart is normal in size. There is\\n     pulmonary venous cephalization and probably a small effusion at the right base\\n     as well.</td>\n",
       "      <td>effusion</td>\n",
       "      <td>95</td>\n",
       "      <td>103</td>\n",
       "      <td>NotAffirmed</td>\n",
       "    </tr>\n",
       "    <tr>\n",
       "      <th>49</th>\n",
       "      <td>There is\\n     pulmonary venous cephalization and probably a small effusion at the right base\\n     as well. ETT, RIJ line, right subclavian line, and NGT are all unchanged.\\n     \\n</td>\n",
       "      <td>effusion</td>\n",
       "      <td>66</td>\n",
       "      <td>74</td>\n",
       "      <td>NotAffirmed</td>\n",
       "    </tr>\n",
       "    <tr>\n",
       "      <th>50</th>\n",
       "      <td>No\\n     pneumothorax. Persistent right lower lung zone opacification and probable\\n     small effusion.\\n\\n</td>\n",
       "      <td>effusion</td>\n",
       "      <td>93</td>\n",
       "      <td>101</td>\n",
       "      <td>Affirmed</td>\n",
       "    </tr>\n",
       "    <tr>\n",
       "      <th>51</th>\n",
       "      <td>The extreme left\\n     costophrenic angle is cut off. There is probable small right pleural effusion.\\n     \\n</td>\n",
       "      <td>effusion</td>\n",
       "      <td>91</td>\n",
       "      <td>99</td>\n",
       "      <td>NotAffirmed</td>\n",
       "    </tr>\n",
       "    <tr>\n",
       "      <th>52</th>\n",
       "      <td>There is probable small right pleural effusion.\\n     \\n      IMPRESSION:</td>\n",
       "      <td>effusion</td>\n",
       "      <td>38</td>\n",
       "      <td>46</td>\n",
       "      <td>NotAffirmed</td>\n",
       "    </tr>\n",
       "    <tr>\n",
       "      <th>53</th>\n",
       "      <td>There is\\n     marked interval increase in congestive heart failure, with patchy bilateral\\n     and perihilar opacities.   Increased size in bilateral pleural effusions, left\\n     greater than right.</td>\n",
       "      <td>effusion</td>\n",
       "      <td>158</td>\n",
       "      <td>166</td>\n",
       "      <td>Affirmed</td>\n",
       "    </tr>\n",
       "    <tr>\n",
       "      <th>54</th>\n",
       "      <td>Increased size in bilateral pleural effusions, left\\n     greater than right.   No pneumothorax.</td>\n",
       "      <td>effusion</td>\n",
       "      <td>36</td>\n",
       "      <td>44</td>\n",
       "      <td>NotAffirmed</td>\n",
       "    </tr>\n",
       "    <tr>\n",
       "      <th>55</th>\n",
       "      <td>IMPRESSION:    Interval increase in congestive heart failure and bilateral\\n     pleural effusions.</td>\n",
       "      <td>effusion</td>\n",
       "      <td>88</td>\n",
       "      <td>96</td>\n",
       "      <td>NotAffirmed</td>\n",
       "    </tr>\n",
       "    <tr>\n",
       "      <th>56</th>\n",
       "      <td>Interval increase in congestive heart failure and bilateral\\n     pleural effusions.   Stable cardiomegaly.\\n     \\n\\n</td>\n",
       "      <td>effusion</td>\n",
       "      <td>73</td>\n",
       "      <td>81</td>\n",
       "      <td>NotAffirmed</td>\n",
       "    </tr>\n",
       "    <tr>\n",
       "      <th>57</th>\n",
       "      <td>Consolidation is seen in the left lower lobe.   The\\n     heart size, mediastinal and hilar contours are unremarkable.</td>\n",
       "      <td>consolidation</td>\n",
       "      <td>0</td>\n",
       "      <td>13</td>\n",
       "      <td>Affirmed</td>\n",
       "    </tr>\n",
       "    <tr>\n",
       "      <th>58</th>\n",
       "      <td>CHEST PA AND LATERAL:   Consolidation is seen in the left lower lobe.</td>\n",
       "      <td>consolidation</td>\n",
       "      <td>24</td>\n",
       "      <td>37</td>\n",
       "      <td>Affirmed</td>\n",
       "    </tr>\n",
       "    <tr>\n",
       "      <th>59</th>\n",
       "      <td>IMPRESSION:  Left lower lobe pneumonia likely aspiration.   Emphysema.\\n\\n</td>\n",
       "      <td>pneumonia</td>\n",
       "      <td>29</td>\n",
       "      <td>38</td>\n",
       "      <td>Affirmed</td>\n",
       "    </tr>\n",
       "  </tbody>\n",
       "</table>\n",
       "</div>\n",
       "    <div class=\"colab-df-buttons\">\n",
       "\n",
       "  <div class=\"colab-df-container\">\n",
       "    <button class=\"colab-df-convert\" onclick=\"convertToInteractive('df-fdd10e65-cc67-4e1f-8e31-19220c88bdc3')\"\n",
       "            title=\"Convert this dataframe to an interactive table.\"\n",
       "            style=\"display:none;\">\n",
       "\n",
       "  <svg xmlns=\"http://www.w3.org/2000/svg\" height=\"24px\" viewBox=\"0 -960 960 960\">\n",
       "    <path d=\"M120-120v-720h720v720H120Zm60-500h600v-160H180v160Zm220 220h160v-160H400v160Zm0 220h160v-160H400v160ZM180-400h160v-160H180v160Zm440 0h160v-160H620v160ZM180-180h160v-160H180v160Zm440 0h160v-160H620v160Z\"/>\n",
       "  </svg>\n",
       "    </button>\n",
       "\n",
       "  <style>\n",
       "    .colab-df-container {\n",
       "      display:flex;\n",
       "      gap: 12px;\n",
       "    }\n",
       "\n",
       "    .colab-df-convert {\n",
       "      background-color: #E8F0FE;\n",
       "      border: none;\n",
       "      border-radius: 50%;\n",
       "      cursor: pointer;\n",
       "      display: none;\n",
       "      fill: #1967D2;\n",
       "      height: 32px;\n",
       "      padding: 0 0 0 0;\n",
       "      width: 32px;\n",
       "    }\n",
       "\n",
       "    .colab-df-convert:hover {\n",
       "      background-color: #E2EBFA;\n",
       "      box-shadow: 0px 1px 2px rgba(60, 64, 67, 0.3), 0px 1px 3px 1px rgba(60, 64, 67, 0.15);\n",
       "      fill: #174EA6;\n",
       "    }\n",
       "\n",
       "    .colab-df-buttons div {\n",
       "      margin-bottom: 4px;\n",
       "    }\n",
       "\n",
       "    [theme=dark] .colab-df-convert {\n",
       "      background-color: #3B4455;\n",
       "      fill: #D2E3FC;\n",
       "    }\n",
       "\n",
       "    [theme=dark] .colab-df-convert:hover {\n",
       "      background-color: #434B5C;\n",
       "      box-shadow: 0px 1px 3px 1px rgba(0, 0, 0, 0.15);\n",
       "      filter: drop-shadow(0px 1px 2px rgba(0, 0, 0, 0.3));\n",
       "      fill: #FFFFFF;\n",
       "    }\n",
       "  </style>\n",
       "\n",
       "    <script>\n",
       "      const buttonEl =\n",
       "        document.querySelector('#df-fdd10e65-cc67-4e1f-8e31-19220c88bdc3 button.colab-df-convert');\n",
       "      buttonEl.style.display =\n",
       "        google.colab.kernel.accessAllowed ? 'block' : 'none';\n",
       "\n",
       "      async function convertToInteractive(key) {\n",
       "        const element = document.querySelector('#df-fdd10e65-cc67-4e1f-8e31-19220c88bdc3');\n",
       "        const dataTable =\n",
       "          await google.colab.kernel.invokeFunction('convertToInteractive',\n",
       "                                                    [key], {});\n",
       "        if (!dataTable) return;\n",
       "\n",
       "        const docLinkHtml = 'Like what you see? Visit the ' +\n",
       "          '<a target=\"_blank\" href=https://colab.research.google.com/notebooks/data_table.ipynb>data table notebook</a>'\n",
       "          + ' to learn more about interactive tables.';\n",
       "        element.innerHTML = '';\n",
       "        dataTable['output_type'] = 'display_data';\n",
       "        await google.colab.output.renderOutput(dataTable, element);\n",
       "        const docLink = document.createElement('div');\n",
       "        docLink.innerHTML = docLinkHtml;\n",
       "        element.appendChild(docLink);\n",
       "      }\n",
       "    </script>\n",
       "  </div>\n",
       "\n",
       "\n",
       "<div id=\"df-430d644e-0c49-4a67-aca0-bb335395c59f\">\n",
       "  <button class=\"colab-df-quickchart\" onclick=\"quickchart('df-430d644e-0c49-4a67-aca0-bb335395c59f')\"\n",
       "            title=\"Suggest charts\"\n",
       "            style=\"display:none;\">\n",
       "\n",
       "<svg xmlns=\"http://www.w3.org/2000/svg\" height=\"24px\"viewBox=\"0 0 24 24\"\n",
       "     width=\"24px\">\n",
       "    <g>\n",
       "        <path d=\"M19 3H5c-1.1 0-2 .9-2 2v14c0 1.1.9 2 2 2h14c1.1 0 2-.9 2-2V5c0-1.1-.9-2-2-2zM9 17H7v-7h2v7zm4 0h-2V7h2v10zm4 0h-2v-4h2v4z\"/>\n",
       "    </g>\n",
       "</svg>\n",
       "  </button>\n",
       "\n",
       "<style>\n",
       "  .colab-df-quickchart {\n",
       "      --bg-color: #E8F0FE;\n",
       "      --fill-color: #1967D2;\n",
       "      --hover-bg-color: #E2EBFA;\n",
       "      --hover-fill-color: #174EA6;\n",
       "      --disabled-fill-color: #AAA;\n",
       "      --disabled-bg-color: #DDD;\n",
       "  }\n",
       "\n",
       "  [theme=dark] .colab-df-quickchart {\n",
       "      --bg-color: #3B4455;\n",
       "      --fill-color: #D2E3FC;\n",
       "      --hover-bg-color: #434B5C;\n",
       "      --hover-fill-color: #FFFFFF;\n",
       "      --disabled-bg-color: #3B4455;\n",
       "      --disabled-fill-color: #666;\n",
       "  }\n",
       "\n",
       "  .colab-df-quickchart {\n",
       "    background-color: var(--bg-color);\n",
       "    border: none;\n",
       "    border-radius: 50%;\n",
       "    cursor: pointer;\n",
       "    display: none;\n",
       "    fill: var(--fill-color);\n",
       "    height: 32px;\n",
       "    padding: 0;\n",
       "    width: 32px;\n",
       "  }\n",
       "\n",
       "  .colab-df-quickchart:hover {\n",
       "    background-color: var(--hover-bg-color);\n",
       "    box-shadow: 0 1px 2px rgba(60, 64, 67, 0.3), 0 1px 3px 1px rgba(60, 64, 67, 0.15);\n",
       "    fill: var(--button-hover-fill-color);\n",
       "  }\n",
       "\n",
       "  .colab-df-quickchart-complete:disabled,\n",
       "  .colab-df-quickchart-complete:disabled:hover {\n",
       "    background-color: var(--disabled-bg-color);\n",
       "    fill: var(--disabled-fill-color);\n",
       "    box-shadow: none;\n",
       "  }\n",
       "\n",
       "  .colab-df-spinner {\n",
       "    border: 2px solid var(--fill-color);\n",
       "    border-color: transparent;\n",
       "    border-bottom-color: var(--fill-color);\n",
       "    animation:\n",
       "      spin 1s steps(1) infinite;\n",
       "  }\n",
       "\n",
       "  @keyframes spin {\n",
       "    0% {\n",
       "      border-color: transparent;\n",
       "      border-bottom-color: var(--fill-color);\n",
       "      border-left-color: var(--fill-color);\n",
       "    }\n",
       "    20% {\n",
       "      border-color: transparent;\n",
       "      border-left-color: var(--fill-color);\n",
       "      border-top-color: var(--fill-color);\n",
       "    }\n",
       "    30% {\n",
       "      border-color: transparent;\n",
       "      border-left-color: var(--fill-color);\n",
       "      border-top-color: var(--fill-color);\n",
       "      border-right-color: var(--fill-color);\n",
       "    }\n",
       "    40% {\n",
       "      border-color: transparent;\n",
       "      border-right-color: var(--fill-color);\n",
       "      border-top-color: var(--fill-color);\n",
       "    }\n",
       "    60% {\n",
       "      border-color: transparent;\n",
       "      border-right-color: var(--fill-color);\n",
       "    }\n",
       "    80% {\n",
       "      border-color: transparent;\n",
       "      border-right-color: var(--fill-color);\n",
       "      border-bottom-color: var(--fill-color);\n",
       "    }\n",
       "    90% {\n",
       "      border-color: transparent;\n",
       "      border-bottom-color: var(--fill-color);\n",
       "    }\n",
       "  }\n",
       "</style>\n",
       "\n",
       "  <script>\n",
       "    async function quickchart(key) {\n",
       "      const quickchartButtonEl =\n",
       "        document.querySelector('#' + key + ' button');\n",
       "      quickchartButtonEl.disabled = true;  // To prevent multiple clicks.\n",
       "      quickchartButtonEl.classList.add('colab-df-spinner');\n",
       "      try {\n",
       "        const charts = await google.colab.kernel.invokeFunction(\n",
       "            'suggestCharts', [key], {});\n",
       "      } catch (error) {\n",
       "        console.error('Error during call to suggestCharts:', error);\n",
       "      }\n",
       "      quickchartButtonEl.classList.remove('colab-df-spinner');\n",
       "      quickchartButtonEl.classList.add('colab-df-quickchart-complete');\n",
       "    }\n",
       "    (() => {\n",
       "      let quickchartButtonEl =\n",
       "        document.querySelector('#df-430d644e-0c49-4a67-aca0-bb335395c59f button');\n",
       "      quickchartButtonEl.style.display =\n",
       "        google.colab.kernel.accessAllowed ? 'block' : 'none';\n",
       "    })();\n",
       "  </script>\n",
       "</div>\n",
       "\n",
       "    </div>\n",
       "  </div>\n"
      ],
      "text/plain": [
       "                                                                                                                                                                                                                                                                                                                                                                                                                                                                                                                                                                                                                                              X  \\\n",
       "30                                                                                                                                                                                                                                                                                                                                                                                                                                                                                                                                                            No infiltrates\\n     or consolidations are present.   There is no pneumothorax.     \n",
       "31                                                                                                                                                                                                                                                                                                                                                                                                                                                                                                                   IMPRESSION:\\n     \\n     1) Tubes and lines as described above.\\n     \\n      2) No acute infiltrate or consolidation.\\n\\n   \n",
       "32                                                                                                                                                                                                                                                                                                                                                                                                                                                                                                                   IMPRESSION:\\n     \\n     1) Tubes and lines as described above.\\n     \\n      2) No acute infiltrate or consolidation.\\n\\n   \n",
       "33                                                                                                                                                                                                                                                                                                                                                                                                                                                                                                                           There has been interval worsening of the left lower lobe opacity.\\n      There is a small left pleural effusion.     \n",
       "34                                                                                                                                                                                                                                                                                                                                                                                                                                                                                                                           There has been interval worsening of the left lower lobe opacity.\\n      There is a small left pleural effusion.     \n",
       "35                                                                                                                                                                                                                                                                                                                                                                                                                                                                                                                    The NG tube courses below the\\n     diaphragm.   There has been interval worsening of the left lower lobe opacity.\\n        \n",
       "36                                                                                                                                                                                                                                                                                                                                                                                                                                                                                                                                                                       IMPRESSION:\\n      Worsening consolidation in the left lower lobe.\\n\\n   \n",
       "37                                                                                                                                               [**2616-12-10**] 5:27 AM\\n     CHEST (PORTABLE AP)                                             Clip # [**Clip Number (Radiology) 11900**]\\n     Reason: assess interval change                                      \\n     Admitting Diagnosis: TRACHEAL OBSTRUCTION\\n     ______________________________________________________________________________\\n     UNDERLYING MEDICAL CONDITION:\\n       80 year old woman with COPD, pneumonia, tracheomalacia s/p LMSB stent removal. \\n          \n",
       "38                                                                                                                                                                                                              [**Clip Number (Radiology) 11900**]\\n     Reason: assess interval change                                      \\n     Admitting Diagnosis: TRACHEAL OBSTRUCTION\\n     ______________________________________________________________________________\\n     UNDERLYING MEDICAL CONDITION:\\n       80 year old woman with COPD, pneumonia, tracheomalacia s/p LMSB stent removal. \\n        Please assess interval change. \\n        \n",
       "39                                                                                                                                                                                                                                                                                   assess interval change                                                          \\n     ______________________________________________________________________________\\n                                     FINAL REPORT\\n     INDICATION:   Assess for change COPD, pneumonia, tracheomalacia, and post left\\n     main stem stent removal.\\n     \\n        \n",
       "40                                                                                                                                                                                                                                                                                                                                                                                                                                                                                                                  Assess for change COPD, pneumonia, tracheomalacia, and post left\\n     main stem stent removal.\\n     \\n      COMPARISON:     \n",
       "41                                                                                                                                                                                                                                                                                                                                                                                                                                                                                                                                                                     There is a small left pleural effusion.   No pneumothorax.\\n     \\n        \n",
       "42                                                                                                                                              [**2682-9-10**] 5:22 AM\\n     CHEST (PORTABLE AP)                                             Clip # [**Clip Number (Radiology) 12448**]\\n     Reason: please assess for effusions/pneumonia                       \\n     ______________________________________________________________________________\\n     UNDERLYING MEDICAL CONDITION:\\n            76 year old man with hypotension, vfib arrest, status post RIJ line   \\n      placement and Swan.                             \\n        \n",
       "43                                                                                                                                              [**2682-9-10**] 5:22 AM\\n     CHEST (PORTABLE AP)                                             Clip # [**Clip Number (Radiology) 12448**]\\n     Reason: please assess for effusions/pneumonia                       \\n     ______________________________________________________________________________\\n     UNDERLYING MEDICAL CONDITION:\\n            76 year old man with hypotension, vfib arrest, status post RIJ line   \\n      placement and Swan.                             \\n        \n",
       "44  [**Clip Number (Radiology) 12448**]\\n     Reason: please assess for effusions/pneumonia                       \\n     ______________________________________________________________________________\\n     UNDERLYING MEDICAL CONDITION:\\n            76 year old man with hypotension, vfib arrest, status post RIJ line   \\n      placement and Swan.                             \\n      REASON FOR THIS EXAMINATION:\\n      please assess for effusions/pneumonia                                           \\n     ______________________________________________________________________________\\n                                        \n",
       "45  [**Clip Number (Radiology) 12448**]\\n     Reason: please assess for effusions/pneumonia                       \\n     ______________________________________________________________________________\\n     UNDERLYING MEDICAL CONDITION:\\n            76 year old man with hypotension, vfib arrest, status post RIJ line   \\n      placement and Swan.                             \\n      REASON FOR THIS EXAMINATION:\\n      please assess for effusions/pneumonia                                           \\n     ______________________________________________________________________________\\n                                        \n",
       "46                                                                                                                                                                                                                                                                                                                                                                 REASON FOR THIS EXAMINATION:\\n      please assess for effusions/pneumonia                                           \\n     ______________________________________________________________________________\\n                                      FINAL REPORT\\n     HISTORY:   \n",
       "47                                                                                                                                                                                                                                                                                                                                                                 REASON FOR THIS EXAMINATION:\\n      please assess for effusions/pneumonia                                           \\n     ______________________________________________________________________________\\n                                      FINAL REPORT\\n     HISTORY:   \n",
       "48                                                                                                                                                                                                                                                                                                                                                                                                                                                                                                    The heart is normal in size. There is\\n     pulmonary venous cephalization and probably a small effusion at the right base\\n     as well.   \n",
       "49                                                                                                                                                                                                                                                                                                                                                                                                                                                  There is\\n     pulmonary venous cephalization and probably a small effusion at the right base\\n     as well. ETT, RIJ line, right subclavian line, and NGT are all unchanged.\\n     \\n        \n",
       "50                                                                                                                                                                                                                                                                                                                                                                                                                                                                                                                                 No\\n     pneumothorax. Persistent right lower lung zone opacification and probable\\n     small effusion.\\n\\n   \n",
       "51                                                                                                                                                                                                                                                                                                                                                                                                                                                                                                                          The extreme left\\n     costophrenic angle is cut off. There is probable small right pleural effusion.\\n     \\n        \n",
       "52                                                                                                                                                                                                                                                                                                                                                                                                                                                                                                                                                                    There is probable small right pleural effusion.\\n     \\n      IMPRESSION:   \n",
       "53                                                                                                                                                                                                                                                                                                                                                                                                                                  There is\\n     marked interval increase in congestive heart failure, with patchy bilateral\\n     and perihilar opacities.   Increased size in bilateral pleural effusions, left\\n     greater than right.     \n",
       "54                                                                                                                                                                                                                                                                                                                                                                                                                                                                                                                                           Increased size in bilateral pleural effusions, left\\n     greater than right.   No pneumothorax.     \n",
       "55                                                                                                                                                                                                                                                                                                                                                                                                                                                                                                                                        IMPRESSION:    Interval increase in congestive heart failure and bilateral\\n     pleural effusions.     \n",
       "56                                                                                                                                                                                                                                                                                                                                                                                                                                                                                                                       Interval increase in congestive heart failure and bilateral\\n     pleural effusions.   Stable cardiomegaly.\\n     \\n\\n   \n",
       "57                                                                                                                                                                                                                                                                                                                                                                                                                                                                                                                     Consolidation is seen in the left lower lobe.   The\\n     heart size, mediastinal and hilar contours are unremarkable.     \n",
       "58                                                                                                                                                                                                                                                                                                                                                                                                                                                                                                                                                                      CHEST PA AND LATERAL:   Consolidation is seen in the left lower lobe.     \n",
       "59                                                                                                                                                                                                                                                                                                                                                                                                                                                                                                                                                                   IMPRESSION:  Left lower lobe pneumonia likely aspiration.   Emphysema.\\n\\n   \n",
       "\n",
       "          Keyword  Start  End            y  \n",
       "30  consolidation     23   36  NotAffirmed  \n",
       "31     infiltrate     86   96  NotAffirmed  \n",
       "32  consolidation    100  113  NotAffirmed  \n",
       "33        opacity     57   64     Affirmed  \n",
       "34       effusion    102  110     Affirmed  \n",
       "35        opacity    105  112     Affirmed  \n",
       "36  consolidation     28   41     Affirmed  \n",
       "37      pneumonia    413  422  NotAffirmed  \n",
       "38      pneumonia    312  321  NotAffirmed  \n",
       "39      pneumonia    258  267  NotAffirmed  \n",
       "40      pneumonia     24   33  NotAffirmed  \n",
       "41       effusion     30   38  NotAffirmed  \n",
       "42      pneumonia    177  186  NotAffirmed  \n",
       "43       effusion    167  175  NotAffirmed  \n",
       "44      pneumonia     77   86  NotAffirmed  \n",
       "45       effusion     67   75  NotAffirmed  \n",
       "46      pneumonia     63   72  NotAffirmed  \n",
       "47       effusion     53   61  NotAffirmed  \n",
       "48       effusion     95  103  NotAffirmed  \n",
       "49       effusion     66   74  NotAffirmed  \n",
       "50       effusion     93  101     Affirmed  \n",
       "51       effusion     91   99  NotAffirmed  \n",
       "52       effusion     38   46  NotAffirmed  \n",
       "53       effusion    158  166     Affirmed  \n",
       "54       effusion     36   44  NotAffirmed  \n",
       "55       effusion     88   96  NotAffirmed  \n",
       "56       effusion     73   81  NotAffirmed  \n",
       "57  consolidation      0   13     Affirmed  \n",
       "58  consolidation     24   37     Affirmed  \n",
       "59      pneumonia     29   38     Affirmed  "
      ]
     },
     "execution_count": 54,
     "metadata": {},
     "output_type": "execute_result"
    }
   ],
   "source": [
    "train_adf[30:60]"
   ]
  },
  {
   "cell_type": "markdown",
   "metadata": {
    "id": "B33Acv9U3ufS"
   },
   "source": [
    "## Assignment 1\n",
    "Let's assume all the keyword identified above are true labels of NER. Now you would want to find out among these identified concepts, which are \"Affirmed\" statement, and which are not.\n",
    "\n",
    "Let's see if a BERT sequence classifier can perform well on this task. You can try following the tutorial here:\n",
    "https://huggingface.co/docs/transformers/en/tasks/sequence_classification"
   ]
  },
  {
   "cell_type": "code",
   "execution_count": null,
   "metadata": {
    "id": "H5_urLcJynLh"
   },
   "outputs": [],
   "source": [
    "# Your solution goes here"
   ]
  },
  {
   "cell_type": "markdown",
   "metadata": {
    "id": "mMjoNfaqzlVH"
   },
   "source": [
    "## Assignment 2\n",
    "\n",
    "Now, you will want to identify the errors your model made. List the errors observed. What are your thoughts on the potential causes and possible solutions?"
   ]
  },
  {
   "cell_type": "code",
   "execution_count": null,
   "metadata": {
    "id": "D_4KOQpQzjxb"
   },
   "outputs": [],
   "source": [
    "# Your code goes here"
   ]
  },
  {
   "cell_type": "markdown",
   "metadata": {
    "id": "u09f1lfb1A7m"
   },
   "source": [
    "## Assignment 3\n",
    "\n",
    "Now, let's try a simple yet proven effective approach. I'm not certain if it will make some difference on the \"mimic\" dataset, but we'll see :)\n",
    "\n",
    "Instead of using the X directly as the input, let's try inserting the \"[SEP]\" token both before and after the keyword (What is \"[SEP]\"?). Then, use this revised string as the input to train your model."
   ]
  },
  {
   "cell_type": "code",
   "execution_count": null,
   "metadata": {
    "id": "6Z8LZYV-0_84"
   },
   "outputs": [],
   "source": [
    "# Your solution here"
   ]
  },
  {
   "cell_type": "code",
   "execution_count": null,
   "metadata": {
    "id": "iBxHvw7R2lJ9"
   },
   "outputs": [],
   "source": []
  }
 ],
 "metadata": {
  "colab": {
   "provenance": []
  },
  "kernelspec": {
   "display_name": "Python 3",
   "name": "python3"
  },
  "language_info": {
   "name": "python"
  }
 },
 "nbformat": 4,
 "nbformat_minor": 0
}
