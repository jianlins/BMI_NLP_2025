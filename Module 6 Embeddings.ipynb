{
 "cells": [
  {
   "cell_type": "markdown",
   "metadata": {
    "id": "QRvCAHwVZVBM"
   },
   "source": [
    "[![Open In Colab](https://colab.research.google.com/assets/colab-badge.svg)](https://colab.research.google.com/github.com/jianlins/BMI_NLP_2025/blob/main/Module%206%20Embeddings.ipynb)\n",
    "\n",
    "## Part 1: Introduction to Word Embeddings\n",
    "\n",
    "I hope you have finished the first required reading about word embedding. Now let's try something interesting using word embeddings.\n",
    "\n",
    "### Loading Pre-trained Word Embeddings\n",
    "To use GloVe embeddings in Colab, you can download them directly from a source online. For educational purposes, we'll use a smaller GloVe model to save time and resources."
   ]
  },
  {
   "cell_type": "code",
   "execution_count": null,
   "metadata": {
    "id": "9tVJCSM_Z30z"
   },
   "outputs": [],
   "source": [
    "import gensim.downloader as api"
   ]
  },
  {
   "cell_type": "code",
   "execution_count": null,
   "metadata": {
    "colab": {
     "base_uri": "https://localhost:8080/"
    },
    "executionInfo": {
     "elapsed": 147952,
     "status": "ok",
     "timestamp": 1707376575771,
     "user": {
      "displayName": "Jade Broken",
      "userId": "16103365057160619176"
     },
     "user_tz": 420
    },
    "id": "7zhmkTmscPUh",
    "outputId": "e071e58a-ed85-4977-9082-9aae79650b4b"
   },
   "outputs": [
    {
     "name": "stdout",
     "output_type": "stream",
     "text": [
      "[==================================================] 100.0% 252.1/252.1MB downloaded\n"
     ]
    }
   ],
   "source": [
    "# Load the model using gensim downloader.\n",
    "wv=api.load('glove-wiki-gigaword-200')"
   ]
  },
  {
   "cell_type": "markdown",
   "metadata": {
    "id": "4b4Hup_negHj"
   },
   "source": [
    "Want to see what other models are availabel using this \"api.load\" call? Try this\n",
    "```python\n",
    "import json\n",
    "info = api.info()\n",
    "print(json.dumps(info, indent=4))\n",
    "```\n"
   ]
  },
  {
   "cell_type": "markdown",
   "metadata": {
    "id": "hdLH-5qEaYY-"
   },
   "source": [
    "### Try get a vector for a word\n",
    "\n",
    "Does the output ring a bell why the model named \"200?\""
   ]
  },
  {
   "cell_type": "code",
   "execution_count": null,
   "metadata": {
    "colab": {
     "base_uri": "https://localhost:8080/"
    },
    "executionInfo": {
     "elapsed": 4,
     "status": "ok",
     "timestamp": 1707376759399,
     "user": {
      "displayName": "Jade Broken",
      "userId": "16103365057160619176"
     },
     "user_tz": 420
    },
    "id": "SudiXwKNbjHb",
    "outputId": "2f78b2fe-fa07-49f1-fbe3-0cc23bd79118"
   },
   "outputs": [
    {
     "data": {
      "text/plain": [
       "array([-0.49346  , -0.14768  ,  0.32166  ,  0.056899 ,  0.052572 ,\n",
       "        0.20192  , -0.13506  , -0.030793 ,  0.15614  , -0.23004  ,\n",
       "       -0.66376  , -0.27316  ,  0.10391  ,  0.57334  , -0.032355 ,\n",
       "       -0.32766  , -0.2716   ,  0.32919  ,  0.41305  , -0.18085  ,\n",
       "        1.5167   ,  2.1649   , -0.10278  ,  0.098019 , -0.018946 ,\n",
       "        0.027292 , -0.7948   ,  0.36631  , -0.33151  ,  0.2884   ,\n",
       "        0.10436  , -0.19166  ,  0.27326  , -0.17519  , -0.14986  ,\n",
       "       -0.072333 , -0.54371  , -0.29728  ,  0.081491 , -0.42673  ,\n",
       "       -0.36406  , -0.52035  ,  0.18455  ,  0.44121  , -0.32196  ,\n",
       "        0.39172  ,  0.11952  ,  0.36979  ,  0.29229  , -0.42954  ,\n",
       "        0.46653  , -0.067243 ,  0.31216  , -0.17216  ,  0.48874  ,\n",
       "        0.2803   , -0.17577  , -0.35101  ,  0.020792 ,  0.15974  ,\n",
       "        0.21927  , -0.32499  ,  0.086022 ,  0.38927  , -0.65638  ,\n",
       "       -0.67401  , -0.41896  ,  1.2709   ,  0.20857  ,  0.28315  ,\n",
       "        0.58238  , -0.14944  ,  0.3989   ,  0.52681  ,  0.35714  ,\n",
       "       -0.39101  , -0.55372  , -0.56642  , -0.15762  , -0.48004  ,\n",
       "        0.40448  ,  0.057518 , -1.0157   ,  0.21755  ,  0.073296 ,\n",
       "        0.15237  , -0.38362  , -0.75308  , -0.0060254, -0.26232  ,\n",
       "       -0.54102  , -0.34347  ,  0.11113  ,  0.47685  , -0.7323   ,\n",
       "        0.77597  ,  0.015216 , -0.66327  , -0.21144  , -0.42964  ,\n",
       "       -0.7269   , -0.067968 ,  0.50601  ,  0.039817 , -0.27584  ,\n",
       "       -0.34794  , -0.0474   ,  0.50734  , -0.30777  ,  0.11594  ,\n",
       "       -0.19211  ,  0.3107   , -0.60075  ,  0.22044  , -0.36265  ,\n",
       "       -0.59442  , -1.2046   ,  0.10619  , -0.60278  ,  0.21573  ,\n",
       "       -0.35362  ,  0.55473  ,  0.58094  ,  0.077259 ,  1.0776   ,\n",
       "       -0.1867   , -1.5168   ,  0.32418  ,  0.83333  ,  0.17366  ,\n",
       "        1.1232   ,  0.10863  ,  0.55889  ,  0.30799  ,  0.084318 ,\n",
       "       -0.43178  , -0.042287 , -0.054615 ,  0.054712 , -0.80914  ,\n",
       "       -0.2443   , -0.076909 ,  0.55216  , -0.71896  ,  0.83319  ,\n",
       "        0.020735 ,  0.020472 , -0.40279  , -0.28874  ,  0.23758  ,\n",
       "        0.12576  , -0.15165  , -0.6942   , -0.25174  ,  0.29591  ,\n",
       "        0.4029   , -1.0618   ,  0.19847  , -0.63463  , -0.70843  ,\n",
       "        0.067943 ,  0.57366  ,  0.041122 ,  0.17452  ,  0.19431  ,\n",
       "       -0.28641  , -1.1363   ,  0.45116  , -0.066518 ,  0.82615  ,\n",
       "       -0.45452  , -0.85652  ,  0.18105  , -0.24187  ,  0.20153  ,\n",
       "        0.72298  ,  0.17415  , -0.87328  ,  0.69815  ,  0.024706 ,\n",
       "        0.26174  , -0.0087155, -0.39349  ,  0.13801  , -0.39299  ,\n",
       "       -0.23057  , -0.22611  , -0.14407  ,  0.010511 , -0.47389  ,\n",
       "       -0.15645  ,  0.28601  , -0.21772  , -0.49535  ,  0.022209 ,\n",
       "       -0.23575  , -0.22469  , -0.011578 ,  0.52867  , -0.062309 ],\n",
       "      dtype=float32)"
      ]
     },
     "execution_count": 5,
     "metadata": {},
     "output_type": "execute_result"
    }
   ],
   "source": [
    "wv['king']"
   ]
  },
  {
   "cell_type": "markdown",
   "metadata": {
    "id": "J93Irzvse5yO"
   },
   "source": [
    "## Exercise 1\n",
    "\n",
    "Compare the cosine similarity for the following word pairs based each word's vector, a similary score should be generated for each pair.\n",
    "\n",
    "* (\"dna\", \"gene\")\n",
    "* (\"neuron\", \"brain\")\n",
    "* (\"antibiotic\", \"bacteria\")\n",
    "* (\"vaccine\", \"virus\")\n",
    "* (\"neuron\", \"antibiotic\")\n",
    "* (\"cancer\", \"tumor\")\n",
    "\n",
    "By comparing the similarity scores you get from these pairs, what you have learned about this \"similarity?\""
   ]
  },
  {
   "cell_type": "code",
   "execution_count": null,
   "metadata": {
    "id": "PY34AAEwh2Na"
   },
   "outputs": [],
   "source": []
  },
  {
   "cell_type": "markdown",
   "metadata": {
    "id": "RrNYxO4Ah3hi"
   },
   "source": [
    "## Exercise 2\n",
    "Let's try something even interesting, to some extent we can direct the similary to the direction that we are expecting by supplying more words. For example, \"apple\" can mean a type of fruit or a company, how can you get similar words of apple brand?\n",
    "\n",
    "Additionally, you can supplying one or more negative word or words to generate similar analogs like the table 1 in the paper. For instance, given a word pair \"olso\" and \"greece\", with a negative example word \"athens\", can you get \"norway?\"\n",
    "\n",
    "**Demonstrate the ideas with code.**\n",
    "\n",
    "Try a few more examples in biomedical domain, think about use cases for this feature? **Put your answer below in a text cell.**\n",
    "\n"
   ]
  },
  {
   "cell_type": "markdown",
   "metadata": {
    "id": "b6YivHka25st"
   },
   "source": [
    "## Part 2 Introduction to Smooth Inverse Frequency (SIF)\n",
    "\n",
    "To keep your knowledge and skills up-to-date in this rapidly growing domain, it's essential not only to learn packaged content but also to delve into papers and source code to adopt cutting-edge techniques. SIF is an excellent case in point.\n",
    "\n",
    "Here is the [GitHub repository (updated to be python3 compatible)](https://github.com/burgersmoke/SIF/tree/Issue_30_Python_3_not_supported) for the paper titled \"A Simple but Tough-to-Beat Baseline for Sentence Embeddings\". Please pay attention to the \"examples\" section.\n",
    "\n",
    "Recall that we have generated a sentence dataframe in a previous exercise. Let's use the train_df as our corpus.\n",
    "\n",
    "1. Generate sentence embeddings using SIF for each sentence in this dataframe.\n",
    "2. Given the example sentence \"Multifocal nonrounded ground-glass opacities with consolidation present\", try to find the top 5 most similar sentences.\n",
    "\n"
   ]
  },
  {
   "cell_type": "code",
   "execution_count": null,
   "metadata": {
    "id": "5md_LKx33A_I"
   },
   "outputs": [],
   "source": []
  }
 ],
 "metadata": {
  "colab": {
   "authorship_tag": "ABX9TyMjJ/OpL25goaV4JY3UBmjY",
   "provenance": [],
   "toc_visible": true
  },
  "kernelspec": {
   "display_name": "Python 3",
   "name": "python3"
  },
  "language_info": {
   "name": "python"
  }
 },
 "nbformat": 4,
 "nbformat_minor": 0
}
